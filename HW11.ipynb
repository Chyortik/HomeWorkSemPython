{
 "cells": [
  {
   "cell_type": "markdown",
   "id": "e09d3d7e",
   "metadata": {},
   "source": [
    "# f(x) = -12x^4*sin(cos(x)) - 18x^3+5x^2 + 10x - 30\n",
    "\n",
    "1. Определить корни\n",
    "2. Найти интервалы, на которых функция возрастает\n",
    "3. Найти интервалы, на которых функция убывает\n",
    "4. Построить график\n",
    "5. Вычислить вершину\n",
    "6. Определить промежутки, на котором f > 0\n",
    "7. Определить промежутки, на котором f < 0"
   ]
  },
  {
   "cell_type": "code",
   "execution_count": 1,
   "id": "ffa8e2ad",
   "metadata": {},
   "outputs": [],
   "source": [
    "# Установка библиотеки\n",
    "from sympy import *\n",
    "from sympy.abc import x\n",
    "\n",
    "# Задаем интервал. Счет ведется на отрезке [start; end] с точностью precision(1, 10, 100 и тд)\n",
    "expr = -12 * x ** 4 * sin(cos(x)) - 18 * x ** 3 + 5 * x ** 2 + 10 * x - 30\n",
    "precision = 100\n",
    "start = -2\n",
    "end = 2\n",
    "\n",
    "xs = [x/precision for x in range(start*precision, end*precision + 1)]\n",
    "ys = [expr.subs(x, value) for value in xs]\n",
    "points = list(zip(xs, ys))"
   ]
  },
  {
   "cell_type": "code",
   "execution_count": 2,
   "id": "ce1d44ee",
   "metadata": {},
   "outputs": [
    {
     "data": {
      "text/latex": [
       "$\\displaystyle \\left\\{x\\; \\middle|\\; x \\in \\mathbb{R} \\wedge - 12 x^{4} \\sin{\\left(\\cos{\\left(x \\right)} \\right)} - 18 x^{3} + 5 x^{2} + 10 x - 30 = 0 \\right\\}$"
      ],
      "text/plain": [
       "ConditionSet(x, Eq(-12*x**4*sin(cos(x)) - 18*x**3 + 5*x**2 + 10*x - 30, 0), Reals)"
      ]
     },
     "execution_count": 2,
     "metadata": {},
     "output_type": "execute_result"
    }
   ],
   "source": [
    "# находим корни уравнения в формате ConditionSet \n",
    "solveset(-12 * x ** 4 * sin(cos(x)) - 18 * x ** 3 + 5 * x ** 2 + 10 * x - 30, x, domain=Reals)"
   ]
  },
  {
   "cell_type": "code",
   "execution_count": null,
   "id": "b589a79c",
   "metadata": {},
   "outputs": [],
   "source": [
    "# Находим интервалы возрастания и убывания на отрезке [start; end] с точностью precision\n",
    "points = list(zip(xs, ys))\n",
    "increasing, decreasing = [], []\n",
    "increase = True\n",
    "while len(points) >= 2:\n",
    "    counter = 0\n",
    "    if increase:\n",
    "        while points[counter][0] < end and points[counter + 1][1] > points[counter][1]:\n",
    "            counter += 1\n",
    "        if counter != 0:\n",
    "            increasing.append([points[0][0], points[counter][0]])\n",
    "        increase = False\n",
    "    else:\n",
    "        while points[counter][0] < end and points[counter + 1][1] < points[counter][1]:\n",
    "            counter += 1\n",
    "        if counter != 0:\n",
    "            decreasing.append([points[0][0], points[counter][0]])\n",
    "        increase = True\n",
    "    del points[:counter]\n",
    "\n",
    "print(\"Интервалы возрастания:\")\n",
    "print(*increasing)\n",
    "print(\"Интервалы убывания:\")\n",
    "print(*decreasing)"
   ]
  },
  {
   "cell_type": "code",
   "execution_count": null,
   "id": "2128d535",
   "metadata": {},
   "outputs": [],
   "source": [
    "# Построение графика на отрезке [-75, 75]\n",
    "import matplotlib.pyplot as plt\n",
    "\n",
    "x = [-12 * x ** 4 * sin(cos(x)) - 18 * x ** 3 + 5 * x ** 2 + 10 * x - 30 for x in range(-75, 76)]\n",
    "y = [y for y in range(-75, 76)]\n",
    "plt.plot(y, x)\n",
    "plt.show()"
   ]
  },
  {
   "cell_type": "code",
   "execution_count": null,
   "id": "fd483719",
   "metadata": {},
   "outputs": [],
   "source": [
    "# Находим вершины на заданном отрезке (-75,  75), значения примерные\n",
    "points = list(zip(xs, ys))\n",
    "extremum = []\n",
    "inc = True\n",
    "prior = points[0]\n",
    "for current in points[1:]:\n",
    "    if (inc and prior[1] > current[1]) or (not inc and prior[1] < current[1]):\n",
    "        prior = current\n",
    "        continue\n",
    "    else:\n",
    "        extremum.append(prior)\n",
    "        prior = current\n",
    "        inc = not inc\n",
    "\n",
    "print(\"Точки экстремума функции:\")\n",
    "print(*extremum)"
   ]
  },
  {
   "cell_type": "code",
   "execution_count": null,
   "id": "b78d4870",
   "metadata": {},
   "outputs": [],
   "source": [
    "# Находим промежутки, где f > 0 и f < 0\n",
    "points = list(zip(xs, ys))\n",
    "above, below = [], []\n",
    "increase = False\n",
    "while len(points) >= 2:\n",
    "    counter = 0\n",
    "    if increase:\n",
    "        while points[counter][0] < end and points[counter][1] > 0:\n",
    "            counter += 1\n",
    "        if counter != 0:\n",
    "            above.append([points[0][0], points[counter - 2][0]])\n",
    "        increase = False\n",
    "    else:\n",
    "        while points[counter][0] < end and points[counter][1] < 0:\n",
    "            counter += 1\n",
    "        if counter != 0:\n",
    "            below.append([points[0][0], points[counter - 2][0]])\n",
    "        increase = True\n",
    "    del points[:counter]\n",
    "\n",
    "print(\"Промежутки, где f > 0: \")\n",
    "print(*above)\n",
    "print(\"Промежутки, где f < 0: \")\n",
    "print(*below)"
   ]
  }
 ],
 "metadata": {
  "kernelspec": {
   "display_name": "Python 3 (ipykernel)",
   "language": "python",
   "name": "python3"
  },
  "language_info": {
   "codemirror_mode": {
    "name": "ipython",
    "version": 3
   },
   "file_extension": ".py",
   "mimetype": "text/x-python",
   "name": "python",
   "nbconvert_exporter": "python",
   "pygments_lexer": "ipython3",
   "version": "3.9.12"
  }
 },
 "nbformat": 4,
 "nbformat_minor": 5
}
